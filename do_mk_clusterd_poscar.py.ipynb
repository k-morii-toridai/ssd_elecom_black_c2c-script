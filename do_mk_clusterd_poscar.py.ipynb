{
 "cells": [
  {
   "cell_type": "code",
   "execution_count": 1,
   "id": "75d6b36d-5280-45de-a814-f8c7b467cd65",
   "metadata": {
    "tags": []
   },
   "outputs": [],
   "source": [
    "import numpy as np\n",
    "import os\n",
    "import subprocess\n",
    "from multiprocessing import Pool, cpu_count\n",
    "from tqdm import tqdm\n",
    "import time"
   ]
  },
  {
   "cell_type": "code",
   "execution_count": 2,
   "id": "266463e1-5d7d-423c-abbc-0bc466ae3e2d",
   "metadata": {
    "tags": []
   },
   "outputs": [
    {
     "name": "stdout",
     "output_type": "stream",
     "text": [
      "Now loading poscar_path_list from .npy file...Please wait a half minite.\n",
      "poscar_path_list was loaded from .npy file!!!\n"
     ]
    },
    {
     "name": "stderr",
     "output_type": "stream",
     "text": [
      "100%|████████████████████████████████████████████████████████████████████████████████████████████████████████████████████████| 308325/308325 [00:01<00:00, 198044.41it/s]\n",
      "100%|███████████████████████████████████████████████████████████████████████████████████████████████████████████████████████| 308325/308325 [00:00<00:00, 1914852.12it/s]"
     ]
    },
    {
     "name": "stdout",
     "output_type": "stream",
     "text": [
      "poscar_folder_abs_path was completely made!!!\n"
     ]
    },
    {
     "name": "stderr",
     "output_type": "stream",
     "text": [
      "\n"
     ]
    }
   ],
   "source": [
    "print(f\"Now loading poscar_path_list from .npy file...Please wait a half minite.\")\n",
    "poscar_path_list = np.load('poscar_path_list.npy', allow_pickle=True)\n",
    "print(f\"poscar_path_list was loaded from .npy file!!!\")\n",
    "poscar_folder_path = [os.path.split(p)[0] for p in tqdm(poscar_path_list)]\n",
    "poscar_folder_abs_path = ['/mnt/ssd_elecom_black_c2c' + p.split('..')[1] for p in tqdm(poscar_folder_path)]\n",
    "print(f\"poscar_folder_abs_path was completely made!!!\")"
   ]
  },
  {
   "cell_type": "code",
   "execution_count": 12,
   "id": "6a58f091-ae0b-4692-8e39-893f30776cf3",
   "metadata": {
    "tags": []
   },
   "outputs": [],
   "source": [
    "# !./poscar2nnlist POSCAR 2"
   ]
  },
  {
   "cell_type": "code",
   "execution_count": 14,
   "id": "2f7f0638-2413-4635-9bc9-873803b9a3c7",
   "metadata": {
    "tags": []
   },
   "outputs": [],
   "source": [
    "# !python3 /mnt/ssd_elecom_black_c2c/ssd_elecom_black_c2c-script/mk_clusterd_poscar.py"
   ]
  },
  {
   "cell_type": "code",
   "execution_count": 19,
   "id": "fdfef277-49fb-4682-ad2f-4336594bb96e",
   "metadata": {},
   "outputs": [],
   "source": [
    "def cd_dir_and_pos2nnlist(poscar_folder_path):\n",
    "    # 1. Change current dir to dir that exists a POSCAR file\n",
    "    os.chdir(poscar_folder_path)\n",
    "    \n",
    "    # 2. Run mk_clusterd_poscar.py\n",
    "    error_list = []\n",
    "    try:\n",
    "        subprocess.run(['python3', '/mnt/ssd_elecom_black_c2c/ssd_elecom_black_c2c-script/mk_clusterd_poscar.py'], \n",
    "                       stdout=subprocess.DEVNULL, \n",
    "                       stderr=subprocess.DEVNULL,)\n",
    "    except Exception as e:\n",
    "        error_list.append(poscar_folder_path)"
   ]
  },
  {
   "cell_type": "code",
   "execution_count": 20,
   "id": "0b999ed6-8a6b-43fd-a202-b066243f46ae",
   "metadata": {
    "tags": []
   },
   "outputs": [
    {
     "data": {
      "text/plain": [
       "['/mnt/ssd_elecom_black_c2c/cif/1/00/00/1000000',\n",
       " '/mnt/ssd_elecom_black_c2c/cif/1/00/00/1000001']"
      ]
     },
     "execution_count": 20,
     "metadata": {},
     "output_type": "execute_result"
    }
   ],
   "source": [
    "poscar_folder_abs_path[0:2]"
   ]
  },
  {
   "cell_type": "code",
   "execution_count": 21,
   "id": "1bd60c2f-65c0-4b80-8657-f7b0bff9bd62",
   "metadata": {},
   "outputs": [
    {
     "name": "stdout",
     "output_type": "stream",
     "text": [
      "Now make some clusterd poscar file!!!\n"
     ]
    },
    {
     "name": "stderr",
     "output_type": "stream",
     "text": [
      "  0%|                                                                                                                              | 2/308325 [00:01<60:33:01,  1.41it/s]"
     ]
    },
    {
     "name": "stdout",
     "output_type": "stream",
     "text": [
      "it took 1.564117193222046sec.\n"
     ]
    },
    {
     "name": "stderr",
     "output_type": "stream",
     "text": [
      "\n"
     ]
    }
   ],
   "source": [
    "before = time.time()\n",
    "try:\n",
    "    p = Pool(cpu_count() - 1)\n",
    "    print(f\"Now make some clusterd poscar file!!!\")\n",
    "    list(tqdm(p.imap(cd_dir_and_pos2nnlist, poscar_folder_abs_path[0:2]), total=len(poscar_folder_abs_path)))\n",
    "    \n",
    "finally:\n",
    "    p.close()\n",
    "    p.join()\n",
    "after = time.time()\n",
    "print(f\"it took {after - before}sec.\")\n"
   ]
  }
 ],
 "metadata": {
  "kernelspec": {
   "display_name": "Python 3 (ipykernel)",
   "language": "python",
   "name": "python3"
  },
  "language_info": {
   "codemirror_mode": {
    "name": "ipython",
    "version": 3
   },
   "file_extension": ".py",
   "mimetype": "text/x-python",
   "name": "python",
   "nbconvert_exporter": "python",
   "pygments_lexer": "ipython3",
   "version": "3.10.12"
  }
 },
 "nbformat": 4,
 "nbformat_minor": 5
}
