{
 "cells": [
  {
   "cell_type": "code",
   "execution_count": 13,
   "id": "9f5d3128-a472-4e6a-9d80-240f8994948e",
   "metadata": {
    "tags": []
   },
   "outputs": [],
   "source": [
    "import subprocess"
   ]
  },
  {
   "cell_type": "code",
   "execution_count": 14,
   "id": "621052df-03c3-453b-a4fc-430c18680ad1",
   "metadata": {
    "tags": []
   },
   "outputs": [],
   "source": [
    "VESTA = '/home/morii-k/vesta/VESTA-gtk3/VESTA'"
   ]
  },
  {
   "cell_type": "code",
   "execution_count": 15,
   "id": "9cb67a74-76c2-4f73-a420-8ab92bd67820",
   "metadata": {
    "tags": []
   },
   "outputs": [
    {
     "name": "stderr",
     "output_type": "stream",
     "text": [
      "\n",
      "(VESTA-gui:1839): Gtk-WARNING **: 05:16:24.686: Negative content width -2 (allocation 32, extents 17x17) while allocating gadget (node button, owner GtkButton)\n",
      "\n",
      "(VESTA-gui:1839): Gtk-WARNING **: 05:16:24.686: Negative content width -2 (allocation 32, extents 17x17) while allocating gadget (node button, owner GtkButton)\n",
      "\n",
      "(VESTA-gui:1839): Gtk-WARNING **: 05:16:24.686: Negative content width -2 (allocation 32, extents 17x17) while allocating gadget (node button, owner GtkButton)\n",
      "\n",
      "(VESTA-gui:1839): Gtk-WARNING **: 05:16:24.686: Negative content width -2 (allocation 32, extents 17x17) while allocating gadget (node button, owner GtkButton)\n",
      "\n",
      "(VESTA-gui:1839): Gtk-CRITICAL **: 05:16:24.687: gtk_box_gadget_distribute: assertion 'size >= 0' failed in GtkNotebook\n",
      "\n",
      "(VESTA-gui:1839): Gtk-WARNING **: 05:16:24.872: Negative content width -2 (allocation 32, extents 17x17) while allocating gadget (node button, owner GtkButton)\n",
      "\n",
      "(VESTA-gui:1839): Gtk-WARNING **: 05:16:24.873: Negative content width -2 (allocation 32, extents 17x17) while allocating gadget (node button, owner GtkButton)\n",
      "\n",
      "(VESTA-gui:1839): Gtk-CRITICAL **: 05:16:24.873: gtk_box_gadget_distribute: assertion 'size >= 0' failed in GtkNotebook\n"
     ]
    },
    {
     "data": {
      "text/plain": [
       "CompletedProcess(args=['/home/morii-k/vesta/VESTA-gtk3/VESTA'], returncode=0)"
      ]
     },
     "execution_count": 15,
     "metadata": {},
     "output_type": "execute_result"
    }
   ],
   "source": [
    "subprocess.run([VESTA])"
   ]
  }
 ],
 "metadata": {
  "kernelspec": {
   "display_name": "Python 3 (ipykernel)",
   "language": "python",
   "name": "python3"
  },
  "language_info": {
   "codemirror_mode": {
    "name": "ipython",
    "version": 3
   },
   "file_extension": ".py",
   "mimetype": "text/x-python",
   "name": "python",
   "nbconvert_exporter": "python",
   "pygments_lexer": "ipython3",
   "version": "3.10.12"
  }
 },
 "nbformat": 4,
 "nbformat_minor": 5
}
