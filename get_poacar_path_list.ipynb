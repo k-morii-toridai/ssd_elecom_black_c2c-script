{
 "cells": [
  {
   "cell_type": "code",
   "execution_count": 1,
   "id": "9bc9875c-e4e6-4a6a-a4fc-f438dfa1e75e",
   "metadata": {
    "tags": []
   },
   "outputs": [
    {
     "name": "stdout",
     "output_type": "stream",
     "text": [
      "/mnt/ssd_elecom_black_c2c/ssd_elecom_black_c2c-script\n"
     ]
    }
   ],
   "source": [
    "!pwd"
   ]
  },
  {
   "cell_type": "code",
   "execution_count": 2,
   "id": "d5c99ead-c4cf-414d-b876-873184fc880f",
   "metadata": {
    "tags": []
   },
   "outputs": [
    {
     "name": "stdout",
     "output_type": "stream",
     "text": [
      "POSCAR\t\t\t\t  mk_poscar_by_c2c.ipynb\n",
      "__pycache__\t\t\t  mk_poscar_by_c2c.py\n",
      "error.txt\t\t\t  mk_poscar_by_c2c_test.ipynb\n",
      "get_cif_pathes.ipynb\t\t  my_package\n",
      "get_cif_pathes.py\t\t  neib_code\n",
      "get_nnlist_path_list.ipynb\t  neib_code.zip\n",
      "get_poacar_path_list.ipynb\t  nnlist_path_list.npy\n",
      "get_poacar_path_list.py\t\t  others\n",
      "mk_nnlist_by_poscar2nnlist.ipynb  poscar2nnlist\n",
      "mk_nnlist_by_poscar2nnlist.py\t  poscar_path_list.npy\n"
     ]
    }
   ],
   "source": [
    "!ls"
   ]
  },
  {
   "cell_type": "code",
   "execution_count": 3,
   "id": "b3ac5206-1caf-4ee6-bc76-d3677ab9d22a",
   "metadata": {
    "tags": []
   },
   "outputs": [
    {
     "name": "stdout",
     "output_type": "stream",
     "text": [
      "'$RECYCLE.BIN'\t\t      mk_nnlist_by_poscar2nnlist.ipynb\n",
      "'System Volume Information'   mysql\n",
      " cif\t\t\t      ssd_elecom_black-script\n",
      " cod-cifs-mysql.txz\t      ssd_elecom_black_c2c-script\n"
     ]
    }
   ],
   "source": [
    "!ls ../"
   ]
  },
  {
   "cell_type": "code",
   "execution_count": 4,
   "id": "f3a1abaa-8131-41d5-ae5e-704348706bd8",
   "metadata": {
    "tags": []
   },
   "outputs": [],
   "source": [
    "import time\n",
    "from pathlib import Path\n",
    "import re\n",
    "from tqdm import tqdm\n",
    "import subprocess"
   ]
  },
  {
   "cell_type": "code",
   "execution_count": 5,
   "id": "d903d1b7-bfd0-4cc4-8b7c-ce2180978f93",
   "metadata": {
    "tags": []
   },
   "outputs": [],
   "source": [
    "def get_subdir_list(p_sub_list):\n",
    "    \"\"\"\n",
    "    To get a sub directory path list, Use thie func().\n",
    "    \n",
    "    pram: p_aub_list: specify a directory which sub dirs is gotten from.\n",
    "    \"\"\"\n",
    "    # 引数の直下のディレクトリ・パスの一覧を取得\n",
    "    sub_dir_list_temp = []\n",
    "    for p_sub in tqdm(p_sub_list):\n",
    "        sub_dir_list_temp.append([p_s_s for p_s_s in p_sub.iterdir()])\n",
    "    # ２次元リストを１次元リスト化\n",
    "    return sum(sub_dir_list_temp, [])\n",
    "\n",
    "\n",
    "p = Path('../cif/')\n",
    "p_sub_list = [p_s for p_s in p.glob('[1-9]')]"
   ]
  },
  {
   "cell_type": "code",
   "execution_count": 6,
   "id": "f8027af1-065c-406a-ba53-c5ccb2437197",
   "metadata": {
    "tags": []
   },
   "outputs": [
    {
     "name": "stderr",
     "output_type": "stream",
     "text": [
      "100%|█████████████████████████████████████████████████████████████████████████████████████████████████████████████████████████████████████| 9/9 [00:00<00:00, 169.08it/s]\n",
      "100%|███████████████████████████████████████████████████████████████████████████████████████████████████████████████████████████████████| 77/77 [00:00<00:00, 101.02it/s]\n",
      "100%|████████████████████████████████████████████████████████████████████████████████████████████████████████████████████████████████| 6927/6927 [01:21<00:00, 85.05it/s]\n"
     ]
    }
   ],
   "source": [
    "cif_path_list = get_subdir_list(get_subdir_list(get_subdir_list(p_sub_list)))"
   ]
  },
  {
   "cell_type": "code",
   "execution_count": 9,
   "id": "1a2e6f6b-d533-47cc-8211-7b69c49254d1",
   "metadata": {
    "tags": []
   },
   "outputs": [
    {
     "data": {
      "application/vnd.jupyter.widget-view+json": {
       "model_id": "a33834c5bf214460b0dfaaf07fa70f09",
       "version_major": 2,
       "version_minor": 0
      },
      "text/plain": [
       "  0%|          | 0/9 [00:00<?, ?it/s]"
      ]
     },
     "metadata": {},
     "output_type": "display_data"
    }
   ],
   "source": [
    "# from multiprocessing import Pool, cpu_count\n",
    "# from tqdm.notebook import tqdm\n",
    "# try:\n",
    "#     p = Pool(cpu_count()-1)\n",
    "#     temp = tqdm(p.imap_unordered(get_subdir_list, p_sub_list), total=len(p_sub_list))\n",
    "#     # temp1 = list(tqdm(p.imap_unordered(get_subdir_list, temp)), total=len(temp))\n",
    "#     # temp2 = list(tqdm(p.imap_unordered(get_subdir_list, temp1)), total=len(temp1))\n",
    "# finally:\n",
    "#     p.close()\n",
    "#     p.join()"
   ]
  },
  {
   "cell_type": "code",
   "execution_count": null,
   "id": "cce2e2a3-7804-4e0e-bf7e-e74d6aa3ad03",
   "metadata": {
    "tags": []
   },
   "outputs": [],
   "source": [
    "# cif_path_list[0:4]"
   ]
  },
  {
   "cell_type": "code",
   "execution_count": null,
   "id": "3388c74b-5b2d-4dfc-88cc-f24bc81a95a4",
   "metadata": {
    "tags": []
   },
   "outputs": [],
   "source": [
    "# def poscar_filter(cif_file_path):\n",
    "#     # pattern = '\\.{2}/cif/[0-9]/[0-9]{2}/[0-9]{2}/[0-9]{6}'\n",
    "#     pattern = '^\\\\.\\\\./cif/[0-9]/[0-9]{2}/[0-9]{2}/[0-9]{6}$'\n",
    "#     cif_file_path_str = str(cif_file_path)\n",
    "#     return bool(re.match(pattern, cif_file_path_str))\n",
    "\n",
    "\n",
    "# poscar_path_list = [str(path) for path in cif_path_list if poscar_filter(path)]"
   ]
  },
  {
   "cell_type": "code",
   "execution_count": null,
   "id": "f5560794-7fb8-4cec-98f1-39ab94d6c376",
   "metadata": {
    "tags": []
   },
   "outputs": [],
   "source": [
    "# poscar_path_list"
   ]
  },
  {
   "cell_type": "code",
   "execution_count": null,
   "id": "e32e8678-2135-4262-9a50-c940e9847920",
   "metadata": {},
   "outputs": [],
   "source": [
    "# def poscar_filter(cif_file_path):\n",
    "#     # pattern = '\\.{2}/cif/[0-9]/[0-9]{2}/[0-9]{2}/[0-9]{6}'\n",
    "#     pattern = '^\\\\.\\\\./cif/[0-9]/[0-9]{2}/[0-9]{2}/[0-9]{6}$'\n",
    "#     cif_file_path_str = str(cif_file_path)\n",
    "#     return bool(re.match(pattern, cif_file_path_str))\n",
    "\n",
    "\n",
    "# poscar_path_list = [str(path) for path in cif_path_list if poscar_filter(path)]"
   ]
  },
  {
   "cell_type": "code",
   "execution_count": 15,
   "id": "5c3d94a0-142b-4dbb-ba2e-72115119f15a",
   "metadata": {
    "tags": []
   },
   "outputs": [],
   "source": [
    "def poscar_filter(cif_file_path):\n",
    "    cif_file_path_str = str(cif_file_path)\n",
    "    return not('.cif' in cif_file_path_str)\n",
    "\n",
    "poscar_path_list = [str(path) for path in cif_path_list if poscar_filter(path)]"
   ]
  },
  {
   "cell_type": "code",
   "execution_count": 16,
   "id": "113d0988-cac1-4085-84ae-b2c673d77419",
   "metadata": {
    "tags": []
   },
   "outputs": [
    {
     "data": {
      "text/plain": [
       "['../cif/1/00/00/1000000',\n",
       " '../cif/1/00/00/1000001',\n",
       " '../cif/1/00/00/1000002',\n",
       " '../cif/1/00/00/1000003',\n",
       " '../cif/1/00/00/1000004']"
      ]
     },
     "execution_count": 16,
     "metadata": {},
     "output_type": "execute_result"
    }
   ],
   "source": [
    "poscar_path_list[0:5]"
   ]
  },
  {
   "cell_type": "code",
   "execution_count": 17,
   "id": "e936b0d3-21bc-41bf-9efd-119f32e2191f",
   "metadata": {
    "tags": []
   },
   "outputs": [
    {
     "name": "stdout",
     "output_type": "stream",
     "text": [
      "507142\n"
     ]
    }
   ],
   "source": [
    "poscar_path_list = [Path(path) for path in poscar_path_list]\n",
    "print(len(poscar_path_list))"
   ]
  },
  {
   "cell_type": "code",
   "execution_count": null,
   "id": "cf1dc7cb-e0e5-43ea-885c-80f7d8bf9123",
   "metadata": {
    "tags": []
   },
   "outputs": [],
   "source": [
    "# poscar_path_list[0:5]"
   ]
  },
  {
   "cell_type": "code",
   "execution_count": null,
   "id": "bbe4e964-56bf-4a9b-8a2f-f4bc83b581df",
   "metadata": {
    "tags": []
   },
   "outputs": [],
   "source": [
    "# list(poscar_path_list[0].iterdir())"
   ]
  },
  {
   "cell_type": "code",
   "execution_count": null,
   "id": "b62ef0ab-1e8a-4f1a-a8c7-f2c4664139ea",
   "metadata": {
    "tags": []
   },
   "outputs": [],
   "source": [
    "# [i for i in poscar_path_list[0].iterdir()]"
   ]
  },
  {
   "cell_type": "code",
   "execution_count": null,
   "id": "9adf562c-7378-4d3b-89b0-5da4b04d3fd8",
   "metadata": {
    "tags": []
   },
   "outputs": [],
   "source": [
    "from tqdm.notebook import tqdm"
   ]
  },
  {
   "cell_type": "code",
   "execution_count": null,
   "id": "e7de2465-a5cb-4783-ad4d-5b527f54c280",
   "metadata": {},
   "outputs": [],
   "source": [
    "# def get_sub_path(path):\n",
    "#     return [poscar for poscar in path.iterdir()]"
   ]
  },
  {
   "cell_type": "code",
   "execution_count": null,
   "id": "86d029c0-a0d9-423f-9d77-c741ce87b824",
   "metadata": {
    "jupyter": {
     "source_hidden": true
    },
    "tags": []
   },
   "outputs": [],
   "source": []
  },
  {
   "cell_type": "markdown",
   "id": "54476108-035e-481a-8773-8e8d2482267b",
   "metadata": {
    "tags": []
   },
   "source": [
    "### リスト内包表現とキャストの速度比較"
   ]
  },
  {
   "cell_type": "code",
   "execution_count": null,
   "id": "3b59205c-8964-4ae7-b22a-1ece65f31b6f",
   "metadata": {
    "tags": []
   },
   "outputs": [],
   "source": [
    "before = time.time()\n",
    "list_1 = sum([[poscar for poscar in path.iterdir()] for path in poscar_path_list[0:100]], [])\n",
    "after = time.time()\n",
    "print(f\"it took {after - before}sec.\")"
   ]
  },
  {
   "cell_type": "code",
   "execution_count": null,
   "id": "99920aed-1787-46ed-b2f9-bcbeed13ab78",
   "metadata": {
    "tags": []
   },
   "outputs": [],
   "source": [
    "before = time.time()\n",
    "list_2 = sum([list(path.iterdir()) for path in poscar_path_list[0:100]], [])\n",
    "after = time.time()\n",
    "print(f\"it took {after - before}sec.\")"
   ]
  },
  {
   "cell_type": "code",
   "execution_count": null,
   "id": "612e5809-2b44-4974-973e-87d8de6168c5",
   "metadata": {},
   "outputs": [],
   "source": []
  },
  {
   "cell_type": "markdown",
   "id": "db2e45a9-e2fd-4882-bd71-211bb784ff5b",
   "metadata": {
    "jp-MarkdownHeadingCollapsed": true,
    "tags": []
   },
   "source": [
    "### 並列化あり/なしで比較"
   ]
  },
  {
   "cell_type": "code",
   "execution_count": 21,
   "id": "40d4cff2-8c5f-41fd-b1e4-d45bdba9d80f",
   "metadata": {
    "tags": []
   },
   "outputs": [],
   "source": [
    "from multiprocessing import Pool, cpu_count\n",
    "p = Pool(cpu_count()-1)"
   ]
  },
  {
   "cell_type": "code",
   "execution_count": 22,
   "id": "c7d51224-9169-48ef-acf0-63f7df9d0046",
   "metadata": {
    "tags": []
   },
   "outputs": [
    {
     "name": "stdout",
     "output_type": "stream",
     "text": [
      "it took 2.0242369174957275sec.\n"
     ]
    }
   ],
   "source": [
    "def get_poscar_list(path):\n",
    "    return list(path.iterdir())\n",
    "\n",
    "before = time.time()\n",
    "poscar_list_temp = p.map(get_poscar_list, poscar_path_list[0:1000])\n",
    "after = time.time()\n",
    "print(f\"it took {after - before}sec.\")\n",
    "\n",
    "p.close()\n",
    "p.join()"
   ]
  },
  {
   "cell_type": "code",
   "execution_count": 23,
   "id": "a95cbeef-4b6d-414f-afe7-a912762b6a80",
   "metadata": {
    "tags": []
   },
   "outputs": [
    {
     "name": "stdout",
     "output_type": "stream",
     "text": [
      "it took 14.774021625518799sec.\n"
     ]
    }
   ],
   "source": [
    "before = time.time()\n",
    "poscar_list_tep = [list(path.iterdir()) for path in poscar_path_list[0:1000]]\n",
    "after = time.time()\n",
    "print(f\"it took {after - before}sec.\")"
   ]
  },
  {
   "cell_type": "code",
   "execution_count": null,
   "id": "0d571068-4b93-4faa-9cb4-5f17f0c69fbc",
   "metadata": {},
   "outputs": [],
   "source": []
  },
  {
   "cell_type": "code",
   "execution_count": null,
   "id": "01986323-d047-4bad-a094-7f22fcb3d594",
   "metadata": {
    "tags": []
   },
   "outputs": [],
   "source": [
    "# # list_2 = sum([list(path.iterdir()) for path in poscar_path_list[0:100]], [])\n",
    "# list_2 = zip([list(path.iterdir()) for path in poscar_path_list[0:100]], [])\n",
    "# p.imap(sum, list_2)\n",
    "# # list_2 = sum([p.imap(list, path.iterdir()) for path in poscar_path_list[0:100]], [])\n",
    "# # p.imap(list, path.iterdir())\n",
    "# p.close()\n",
    "# p.join()"
   ]
  },
  {
   "cell_type": "markdown",
   "id": "e749fe39-57b5-497e-809d-296a71f7c9e4",
   "metadata": {},
   "source": [
    "### list()でキャストverで全てを処理"
   ]
  },
  {
   "cell_type": "code",
   "execution_count": 31,
   "id": "3e3a35c0-9610-441d-b39a-5d918dc7d160",
   "metadata": {
    "tags": []
   },
   "outputs": [
    {
     "data": {
      "text/plain": [
       "507142"
      ]
     },
     "execution_count": 31,
     "metadata": {},
     "output_type": "execute_result"
    }
   ],
   "source": [
    "len(poscar_path_list)"
   ]
  },
  {
   "cell_type": "markdown",
   "id": "6bf15c5d-ac09-4ffe-8d33-c1f97fd9e0c1",
   "metadata": {},
   "source": [
    "#### p.imapとp.imap_unorderdを比較"
   ]
  },
  {
   "cell_type": "code",
   "execution_count": null,
   "id": "0b045c4e-fd37-4fd5-a5df-9f4d7eea37e8",
   "metadata": {},
   "outputs": [],
   "source": [
    "# from multiprocessing import Pool, cpu_count\n",
    "# from tqdm.notebook import tqdm\n",
    "\n",
    "\n",
    "# def get_poscar_list(path):\n",
    "#     return list(path.iterdir())\n",
    "\n",
    "# try:\n",
    "#     p = Pool(cpu_count()-1)\n",
    "#     before = time.time()\n",
    "#     poscar_list_temp = list(tqdm(p.imap(get_poscar_list, poscar_path_list), total=len(poscar_path_list)))\n",
    "#     after = time.time()\n",
    "#     print(f\"it took {after - before}sec.\")\n",
    "\n",
    "# finally:\n",
    "#     p.close()\n",
    "#     p.join()"
   ]
  },
  {
   "cell_type": "code",
   "execution_count": 38,
   "id": "12b8f360-387c-48ac-aa15-f1be22378bea",
   "metadata": {
    "tags": []
   },
   "outputs": [
    {
     "data": {
      "application/vnd.jupyter.widget-view+json": {
       "model_id": "9a566896659d4a999062214a4ea8e16c",
       "version_major": 2,
       "version_minor": 0
      },
      "text/plain": [
       "  0%|          | 0/507142 [00:00<?, ?it/s]"
      ]
     },
     "metadata": {},
     "output_type": "display_data"
    },
    {
     "name": "stdout",
     "output_type": "stream",
     "text": [
      "it took 1168.9424092769623sec.\n"
     ]
    }
   ],
   "source": [
    "from multiprocessing import Pool, cpu_count\n",
    "from tqdm.notebook import tqdm\n",
    "\n",
    "\n",
    "def get_poscar_list(path):\n",
    "    return list(path.iterdir())\n",
    "\n",
    "try:\n",
    "    p = Pool(cpu_count()-1)\n",
    "    before = time.time()\n",
    "    poscar_list_temp = list(tqdm(p.imap_unordered(get_poscar_list, poscar_path_list), total=len(poscar_path_list)))\n",
    "    after = time.time()\n",
    "    print(f\"it took {after - before}sec.\")\n",
    "\n",
    "finally:\n",
    "    p.close()\n",
    "    p.join()"
   ]
  },
  {
   "cell_type": "markdown",
   "id": "19fac7f5-83f6-4804-8019-c4a21ba1ce6a",
   "metadata": {},
   "source": [
    "#### 2重リストを１重リスト化：itertools.chain.from_iterable()"
   ]
  },
  {
   "cell_type": "code",
   "execution_count": 73,
   "id": "cf36c7ff-a08b-4db6-8f17-7fd5694f5ca8",
   "metadata": {
    "tags": []
   },
   "outputs": [
    {
     "name": "stdout",
     "output_type": "stream",
     "text": [
      "len(poscar_list_temp) -> 507142\n"
     ]
    }
   ],
   "source": [
    "print(f\"len(poscar_list_temp) -> {len(poscar_list_temp)}\")"
   ]
  },
  {
   "cell_type": "code",
   "execution_count": 52,
   "id": "f3fdc6a3-40ed-4c32-bbc4-6d98d699e885",
   "metadata": {
    "tags": []
   },
   "outputs": [
    {
     "data": {
      "text/plain": [
       "[[PosixPath('../cif/1/00/00/1000000/POSCAR')],\n",
       " [PosixPath('../cif/1/00/00/1000005/POSCAR')],\n",
       " [PosixPath('../cif/1/00/00/1000003/POSCAR')],\n",
       " [PosixPath('../cif/1/00/00/1000004/POSCAR')],\n",
       " [PosixPath('../cif/1/00/00/1000001/POSCAR')],\n",
       " [PosixPath('../cif/1/00/00/1000002/POSCAR')],\n",
       " [PosixPath('../cif/1/00/00/1000007/POSCAR')],\n",
       " [PosixPath('../cif/1/00/00/1000006/POSCAR')],\n",
       " [],\n",
       " []]"
      ]
     },
     "execution_count": 52,
     "metadata": {},
     "output_type": "execute_result"
    }
   ],
   "source": [
    "poscar_list_temp[0:10]"
   ]
  },
  {
   "cell_type": "code",
   "execution_count": 63,
   "id": "3d3b2c15-8bf1-4fb3-a0e7-9001ea77d7b6",
   "metadata": {
    "tags": []
   },
   "outputs": [],
   "source": [
    "import itertools\n",
    "poscar_path_list_fix = list(itertools.chain.from_iterable(poscar_list_temp))"
   ]
  },
  {
   "cell_type": "code",
   "execution_count": 74,
   "id": "0a86fdbe-7f5d-4041-9eed-2dd369cee54b",
   "metadata": {
    "tags": []
   },
   "outputs": [
    {
     "name": "stdout",
     "output_type": "stream",
     "text": [
      "len(poscar_path_list_fix) -> 308325\n"
     ]
    }
   ],
   "source": [
    "print(f\"len(poscar_path_list_fix) -> {len(poscar_path_list_fix)}\")"
   ]
  },
  {
   "cell_type": "code",
   "execution_count": null,
   "id": "bd819810-a89f-48e8-9ec1-fea7d29ea115",
   "metadata": {},
   "outputs": [],
   "source": []
  },
  {
   "cell_type": "markdown",
   "id": "dce9b1ee-abf6-4d36-8bfd-1aede19e590d",
   "metadata": {},
   "source": [
    "#### poscar_path_list_fixをndarray形式で保存"
   ]
  },
  {
   "cell_type": "code",
   "execution_count": null,
   "id": "e4d30508-98bf-4b66-b4e6-87b7b471bb5e",
   "metadata": {},
   "outputs": [],
   "source": [
    "import numpy as np\n",
    "np.save('poscar_path_list.npy', np.array(poscar_path_list_fix))"
   ]
  },
  {
   "cell_type": "markdown",
   "id": "93520047-511f-4e08-b186-c22d5d2c6051",
   "metadata": {},
   "source": [
    "#### .npyで保存したposcar_listをload"
   ]
  },
  {
   "cell_type": "code",
   "execution_count": 10,
   "id": "00c27a39-7a91-4a65-bc50-7ce46621a679",
   "metadata": {
    "tags": []
   },
   "outputs": [],
   "source": [
    "import numpy as np\n",
    "loaded_pos_path_list = np.load('poscar_path_list.npy', allow_pickle=True)"
   ]
  },
  {
   "cell_type": "code",
   "execution_count": 11,
   "id": "0e8ec7da-83c6-44ec-a5f6-0a9df91e06af",
   "metadata": {
    "tags": []
   },
   "outputs": [
    {
     "data": {
      "text/plain": [
       "308325"
      ]
     },
     "execution_count": 11,
     "metadata": {},
     "output_type": "execute_result"
    }
   ],
   "source": [
    "len(loaded_pos_path_list)"
   ]
  },
  {
   "cell_type": "code",
   "execution_count": 12,
   "id": "a73efba8-ed18-496a-8e0b-02cbdc84cd83",
   "metadata": {
    "tags": []
   },
   "outputs": [
    {
     "data": {
      "text/plain": [
       "array([PosixPath('../cif/1/00/00/1000003/POSCAR'),\n",
       "       PosixPath('../cif/1/00/00/1000005/POSCAR'),\n",
       "       PosixPath('../cif/1/00/00/1000006/POSCAR'),\n",
       "       PosixPath('../cif/1/00/00/1000002/POSCAR'),\n",
       "       PosixPath('../cif/1/00/00/1000001/POSCAR'),\n",
       "       PosixPath('../cif/1/00/00/1000000/POSCAR'),\n",
       "       PosixPath('../cif/1/00/00/1000004/POSCAR'),\n",
       "       PosixPath('../cif/1/00/00/1000007/POSCAR'),\n",
       "       PosixPath('../cif/1/00/00/1000017/POSCAR'),\n",
       "       PosixPath('../cif/1/00/00/1000018/POSCAR'),\n",
       "       PosixPath('../cif/1/00/00/1000019/POSCAR'),\n",
       "       PosixPath('../cif/1/00/00/1000020/POSCAR'),\n",
       "       PosixPath('../cif/1/00/00/1000021/POSCAR'),\n",
       "       PosixPath('../cif/1/00/00/1000024/POSCAR'),\n",
       "       PosixPath('../cif/1/00/00/1000022/POSCAR'),\n",
       "       PosixPath('../cif/1/00/00/1000025/POSCAR'),\n",
       "       PosixPath('../cif/1/00/00/1000026/POSCAR'),\n",
       "       PosixPath('../cif/1/00/00/1000027/POSCAR'),\n",
       "       PosixPath('../cif/1/00/00/1000028/POSCAR'),\n",
       "       PosixPath('../cif/1/00/00/1000031/POSCAR')], dtype=object)"
      ]
     },
     "execution_count": 12,
     "metadata": {},
     "output_type": "execute_result"
    }
   ],
   "source": [
    "loaded_pos_path_list[0:20]"
   ]
  },
  {
   "cell_type": "code",
   "execution_count": null,
   "id": "17504c68-7ad5-4463-9ac7-6e394fa93cd1",
   "metadata": {},
   "outputs": [],
   "source": []
  }
 ],
 "metadata": {
  "kernelspec": {
   "display_name": "Python 3 (ipykernel)",
   "language": "python",
   "name": "python3"
  },
  "language_info": {
   "codemirror_mode": {
    "name": "ipython",
    "version": 3
   },
   "file_extension": ".py",
   "mimetype": "text/x-python",
   "name": "python",
   "nbconvert_exporter": "python",
   "pygments_lexer": "ipython3",
   "version": "3.10.12"
  }
 },
 "nbformat": 4,
 "nbformat_minor": 5
}
