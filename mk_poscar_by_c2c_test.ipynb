{
 "cells": [
  {
   "cell_type": "code",
   "execution_count": 6,
   "id": "2d256d67-b58c-4764-a1fe-84b0a98ec9c6",
   "metadata": {
    "tags": []
   },
   "outputs": [],
   "source": [
    "# for making cif_path_list\n",
    "import time\n",
    "from pathlib import Path\n",
    "import re\n",
    "from tqdm import tqdm\n",
    "import subprocess\n",
    "import logging\n",
    "\n",
    "\n",
    "def get_subdir_list(p_sub_list):\n",
    "    \"\"\"\n",
    "    To get a sub directory path list, Use thie func().\n",
    "    \n",
    "    pram: p_aub_list: specify a directory which sub dirs is gotten from.\n",
    "    \"\"\"\n",
    "    # 引数の直下のディレクトリ・パスの一覧を取得\n",
    "    sub_dir_list_temp = []\n",
    "    for p_sub in tqdm(p_sub_list):\n",
    "        sub_dir_list_temp.append([p_s_s for p_s_s in p_sub.iterdir()])\n",
    "    # ２次元リストを１次元リスト化\n",
    "    return sum(sub_dir_list_temp, [])\n",
    "\n",
    "\n",
    "p = Path('../cif/')\n",
    "p_sub_list = [p_s for p_s in p.glob('[0-9]')]\n",
    "\n",
    "\n",
    "before = time.time()\n",
    "cif_path_list = get_subdir_list(get_subdir_list(get_subdir_list(p_sub_list)))\n",
    "after = time.time()\n",
    "print(f\"it took {after - before}sec to get all of subdir list.\")\n",
    "\n",
    "\n",
    "def cif_filter(cif_file_path):\n",
    "    pattern = '.*\\.cif'\n",
    "    cif_file_path_str = str(cif_file_path)\n",
    "    return bool(re.match(pattern, cif_file_path_str))\n",
    "\n",
    "\n",
    "cif_path_list = [str(path) for path in cif_path_list if cif_filter(path)]\n",
    "\n",
    "\n",
    "cif_path_list = [str(path) for path in cif_path_list if cif_filter(path)]\n",
    "poscar_path_list = [str(cif_path)[0:-4] + '/POSCAR' for cif_path in cif_path_list]"
   ]
  },
  {
   "cell_type": "code",
   "execution_count": 12,
   "id": "0133a33a-02e4-4690-9d93-32587aee41a3",
   "metadata": {
    "tags": []
   },
   "outputs": [
    {
     "name": "stderr",
     "output_type": "stream",
     "text": [
      "  0%|                                                                             | 7/507142 [00:02<44:21:38,  3.18it/s]***Warning : Site occupancies not found, assuming all occupancies = 1.\n",
      "  0%|                                                                             | 8/507142 [00:02<39:09:58,  3.60it/s]***Warning: Mgm is not a chemical element.\n",
      "***Warning: Cam is not a chemical element.\n",
      "***Warning: Sit is not a chemical element.\n",
      "***Warning : Site occupancies not found, assuming all occupancies = 1.\n",
      "***Error: Chemical composition of the generated cell differs from that given\n",
      "          by _chemical_formula_sum. Use --force to generate a cell anyway.\n",
      "  0%|                                                                             | 9/507142 [00:02<35:11:05,  4.00it/s]***Warning: Mgm is not a chemical element.\n",
      "***Warning: Cam is not a chemical element.\n",
      "***Warning: Sit is not a chemical element.\n",
      "***Warning : Site occupancies not found, assuming all occupancies = 1.\n",
      "***Error: Chemical composition of the generated cell differs from that given\n",
      "          by _chemical_formula_sum. Use --force to generate a cell anyway.\n",
      "  0%|                                                                            | 10/507142 [00:03<44:49:37,  3.14it/s]"
     ]
    },
    {
     "name": "stdout",
     "output_type": "stream",
     "text": [
      "it took 3.18697190284729sec to run cif2cell all files.\n"
     ]
    },
    {
     "name": "stderr",
     "output_type": "stream",
     "text": [
      "\n"
     ]
    }
   ],
   "source": [
    "logging.basicConfig(filename='error.log', level=logging.ERROR)\n",
    "error_list = []\n",
    "before = time.time()\n",
    "\n",
    "for cif_path, poscar_path in tqdm(zip(cif_path_list[0:10], poscar_path_list[0:10]), total=len(cif_path_list)):\n",
    "    try:\n",
    "        subprocess.run(['cif2cell', cif_path, '-p', 'vasp', '-o', poscar_path, '--vasp-format=5'])\n",
    "    except Exception as e:\n",
    "        logging.error(e)\n",
    "        error_list.append(cif_path)\n",
    "\n",
    "after = time.time()\n",
    "print(f\"it took {after - before}sec to run cif2cell all files.\")\n"
   ]
  },
  {
   "cell_type": "code",
   "execution_count": null,
   "id": "2a71e22d-aea3-4151-8352-2cb0bbd5b4dd",
   "metadata": {},
   "outputs": [],
   "source": []
  }
 ],
 "metadata": {
  "kernelspec": {
   "display_name": "Python 3 (ipykernel)",
   "language": "python",
   "name": "python3"
  },
  "language_info": {
   "codemirror_mode": {
    "name": "ipython",
    "version": 3
   },
   "file_extension": ".py",
   "mimetype": "text/x-python",
   "name": "python",
   "nbconvert_exporter": "python",
   "pygments_lexer": "ipython3",
   "version": "3.10.12"
  }
 },
 "nbformat": 4,
 "nbformat_minor": 5
}
