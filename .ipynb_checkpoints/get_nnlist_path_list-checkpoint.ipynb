{
 "cells": [
  {
   "cell_type": "code",
   "execution_count": 1,
   "id": "58f9a6e1-4cdf-4edd-8f05-79c0d83a117b",
   "metadata": {
    "tags": []
   },
   "outputs": [
    {
     "name": "stdout",
     "output_type": "stream",
     "text": [
      "/mnt/ssd_elecom_black_c2c/ssd_elecom_black_c2c-script\n"
     ]
    }
   ],
   "source": [
    "!pwd"
   ]
  },
  {
   "cell_type": "code",
   "execution_count": 2,
   "id": "7f03d516-ac6a-4dfd-9355-30a5515ad5b3",
   "metadata": {
    "tags": []
   },
   "outputs": [],
   "source": [
    "import itertools\n",
    "import time\n",
    "from pathlib import Path\n",
    "import re\n",
    "from tqdm import tqdm\n",
    "from tqdm.notebook import tqdm\n",
    "import subprocess\n",
    "from multiprocessing import Pool, cpu_count"
   ]
  },
  {
   "cell_type": "code",
   "execution_count": 3,
   "id": "e2216a68-406f-430c-8437-78eb91f03658",
   "metadata": {
    "tags": []
   },
   "outputs": [],
   "source": [
    "def get_subdir_list(p_sub_list):\n",
    "    \"\"\"\n",
    "    To get a sub directory path list, Use thie func().\n",
    "    \n",
    "    pram: p_aub_list: specify a directory which sub dirs is gotten from.\n",
    "    \"\"\"\n",
    "    # 引数の直下のディレクトリ・パスの一覧を取得\n",
    "    sub_dir_list_temp = []\n",
    "    for p_sub in tqdm(p_sub_list):\n",
    "        sub_dir_list_temp.append([p_s_s for p_s_s in p_sub.iterdir()])\n",
    "    # ２次元リストを１次元リスト化\n",
    "    return sum(sub_dir_list_temp, [])\n",
    "\n",
    "\n",
    "p = Path('../cif/')\n",
    "p_sub_list = [p_s for p_s in p.glob('[1-9]')]"
   ]
  },
  {
   "cell_type": "code",
   "execution_count": 4,
   "id": "a550a3f8-3d7a-4a68-af8e-3a03324e3980",
   "metadata": {
    "tags": []
   },
   "outputs": [
    {
     "data": {
      "application/vnd.jupyter.widget-view+json": {
       "model_id": "0c8efbedcd2a4705ba7f2af9fddbc532",
       "version_major": 2,
       "version_minor": 0
      },
      "text/plain": [
       "  0%|          | 0/9 [00:00<?, ?it/s]"
      ]
     },
     "metadata": {},
     "output_type": "display_data"
    },
    {
     "data": {
      "application/vnd.jupyter.widget-view+json": {
       "model_id": "9f06ca5b6c6c4f2a8628c31ba82efc9e",
       "version_major": 2,
       "version_minor": 0
      },
      "text/plain": [
       "  0%|          | 0/77 [00:00<?, ?it/s]"
      ]
     },
     "metadata": {},
     "output_type": "display_data"
    },
    {
     "data": {
      "application/vnd.jupyter.widget-view+json": {
       "model_id": "0c74e8c0e51a491b8bd3b831e937871e",
       "version_major": 2,
       "version_minor": 0
      },
      "text/plain": [
       "  0%|          | 0/6927 [00:00<?, ?it/s]"
      ]
     },
     "metadata": {},
     "output_type": "display_data"
    }
   ],
   "source": [
    "cif_path_list = get_subdir_list(get_subdir_list(get_subdir_list(p_sub_list)))"
   ]
  },
  {
   "cell_type": "code",
   "execution_count": 5,
   "id": "1bed3389-17ff-461a-bf29-990c7f94fc03",
   "metadata": {
    "tags": []
   },
   "outputs": [],
   "source": [
    "def poscar_dir_filter(cif_file_path):\n",
    "    cif_file_path_str = str(cif_file_path)\n",
    "    return not('.cif' in cif_file_path_str)\n",
    "\n",
    "poscar_dir_list = [path for path in cif_path_list if poscar_dir_filter(path)]"
   ]
  },
  {
   "cell_type": "code",
   "execution_count": 6,
   "id": "7e84daba-69d6-4176-87f7-8aee2e630f68",
   "metadata": {
    "tags": []
   },
   "outputs": [
    {
     "data": {
      "application/vnd.jupyter.widget-view+json": {
       "model_id": "aaa78fb6bfb747e7b7fed78e60576311",
       "version_major": 2,
       "version_minor": 0
      },
      "text/plain": [
       "  0%|          | 0/507142 [00:00<?, ?it/s]"
      ]
     },
     "metadata": {},
     "output_type": "display_data"
    },
    {
     "name": "stdout",
     "output_type": "stream",
     "text": [
      "it took 959.1611270904541sec.\n"
     ]
    }
   ],
   "source": [
    "def iterdir_func(poscar_dir):\n",
    "    return list(poscar_dir.iterdir())\n",
    "    \n",
    "def flatten_func(list_2dim):\n",
    "    return list(itertools.chain.from_iterable(list_2dim))\n",
    "\n",
    "\n",
    "# 並列化\n",
    "before = time.time()\n",
    "try:\n",
    "    p = Pool(cpu_count() - 1)\n",
    "    # iterdir\n",
    "    nnlist_poscar_path_list = list(tqdm(p.imap(iterdir_func, poscar_dir_list), total=len(poscar_dir_list)))\n",
    "    # flatten\n",
    "    nnlist_poscar_path_list = flatten_func(nnlist_poscar_path_list)\n",
    "    \n",
    "finally:\n",
    "    p.close()\n",
    "    p.join()\n",
    "after = time.time()\n",
    "print(f\"it took {after - before}sec.\")"
   ]
  },
  {
   "cell_type": "code",
   "execution_count": 7,
   "id": "dfeae24c-f277-4648-b224-d2f46c17ada7",
   "metadata": {
    "tags": []
   },
   "outputs": [
    {
     "name": "stdout",
     "output_type": "stream",
     "text": [
      "len(nnlist_poscar_path_list) -> 616651\n"
     ]
    }
   ],
   "source": [
    "# check\n",
    "print(f\"len(nnlist_poscar_path_list) -> {len(nnlist_poscar_path_list)}\")"
   ]
  },
  {
   "cell_type": "code",
   "execution_count": null,
   "id": "9bdfc5a7-ad1e-471f-9ecb-d4b158e45cfd",
   "metadata": {},
   "outputs": [],
   "source": []
  },
  {
   "cell_type": "markdown",
   "id": "bef79cc8-4050-4d74-ae6c-7216e10cc50a",
   "metadata": {},
   "source": [
    "#### .nnlistのパスだけのリストを抽出し，.npyで保存"
   ]
  },
  {
   "cell_type": "code",
   "execution_count": 97,
   "id": "55e3382d-926b-4cdb-a3ac-377412f1e225",
   "metadata": {
    "tags": []
   },
   "outputs": [],
   "source": [
    "def nnlist_filter(nnlist_poscar_path):\n",
    "    nnlist_poscar_path_str = str(nnlist_poscar_path)\n",
    "    return '.nnlist' in nnlist_poscar_path_str"
   ]
  },
  {
   "cell_type": "code",
   "execution_count": 98,
   "id": "d6a61ae7-df33-41bf-a5da-e078b1b89636",
   "metadata": {
    "tags": []
   },
   "outputs": [],
   "source": [
    "nnlist_path_list = [mix for mix in nnlist_poscar_path_list if nnlist_filter(mix)]"
   ]
  },
  {
   "cell_type": "code",
   "execution_count": 99,
   "id": "d3cd75f6-73b5-493b-b4c8-3210373e4210",
   "metadata": {
    "tags": []
   },
   "outputs": [
    {
     "data": {
      "text/plain": [
       "PosixPath('../cif/1/00/00/1000000/POSCAR.nnlist')"
      ]
     },
     "execution_count": 99,
     "metadata": {},
     "output_type": "execute_result"
    }
   ],
   "source": [
    "nnlist_path_list[0]"
   ]
  },
  {
   "cell_type": "code",
   "execution_count": 109,
   "id": "1d37fd6f-f2b6-4d7f-9eac-0fba3b1de976",
   "metadata": {
    "tags": []
   },
   "outputs": [
    {
     "name": "stdout",
     "output_type": "stream",
     "text": [
      "len(nnlist_path_list) -> 308325\n",
      "check nnlist_path_list's last 7 string and unique it -> {'.nnlist'}\n"
     ]
    }
   ],
   "source": [
    "# check\n",
    "print(f\"len(nnlist_path_list) -> {len(nnlist_path_list)}\")\n",
    "print(f\"check nnlist_path_list's last 7 string and unique it -> {set([str(p)[-7:] for p in nnlist_path_list])}\")"
   ]
  },
  {
   "cell_type": "code",
   "execution_count": 27,
   "id": "51edb9db-b652-4eb3-bac2-a24d657c3259",
   "metadata": {
    "tags": []
   },
   "outputs": [],
   "source": [
    "# save nnlist_path_list as .npy\n",
    "import numpy as np\n",
    "np.save('nnlist_path_list.npy', nnlist_path_list)"
   ]
  },
  {
   "cell_type": "code",
   "execution_count": 29,
   "id": "a193b608-7ee8-4838-8e3c-3e0bccf5adad",
   "metadata": {
    "tags": []
   },
   "outputs": [],
   "source": [
    "# load nnlist_path_list.npy\n",
    "nnlist_path_list_loaded = np.load('nnlist_path_list.npy', allow_pickle=True)"
   ]
  },
  {
   "cell_type": "code",
   "execution_count": null,
   "id": "9c40f55a-af86-46f4-9e2a-65422b3cb2e8",
   "metadata": {},
   "outputs": [],
   "source": []
  },
  {
   "cell_type": "code",
   "execution_count": null,
   "id": "3334f387-2c21-4777-a3cc-bb3b90569182",
   "metadata": {},
   "outputs": [],
   "source": []
  },
  {
   "cell_type": "markdown",
   "id": "95c9c69a-9fb8-4bf6-a836-074dc670dc45",
   "metadata": {},
   "source": [
    "#### POSCARのパスだけのリストを抽出し，.npyで保存"
   ]
  },
  {
   "cell_type": "code",
   "execution_count": 88,
   "id": "502179f3-5f0d-43bd-83bc-68cc2847bf99",
   "metadata": {
    "tags": []
   },
   "outputs": [],
   "source": [
    "import re\n",
    "def poscar_filter(nnlist_poscar_path):\n",
    "    pattern = '.+/POSCAR$'\n",
    "    string = str(nnlist_poscar_path)\n",
    "    return re.search(pattern, string)"
   ]
  },
  {
   "cell_type": "code",
   "execution_count": 91,
   "id": "c1f6931b-f432-4fd0-883f-e852fbaeb620",
   "metadata": {
    "tags": []
   },
   "outputs": [],
   "source": [
    "poscar_path_list = [mix for mix in nnlist_poscar_path_list if poscar_filter(mix)]"
   ]
  },
  {
   "cell_type": "code",
   "execution_count": 110,
   "id": "0c68f5b8-f787-4c32-a0af-fe5d1e4fb062",
   "metadata": {
    "tags": []
   },
   "outputs": [
    {
     "name": "stdout",
     "output_type": "stream",
     "text": [
      "len(poscar_path_list) -> 308325\n",
      "check poscar_path_list's last 6 string and unique it -> {'POSCAR'}\n"
     ]
    }
   ],
   "source": [
    "# check\n",
    "print(f\"len(poscar_path_list) -> {len(poscar_path_list)}\")\n",
    "print(f\"check poscar_path_list's last 6 string and unique it -> {set([str(p)[-6:] for p in poscar_path_list])}\")"
   ]
  },
  {
   "cell_type": "code",
   "execution_count": 93,
   "id": "5a21ad6b-2325-4643-87b0-eb8b8e0893fc",
   "metadata": {
    "tags": []
   },
   "outputs": [],
   "source": [
    "np.save('poscar_path_list.npy', poscar_path_list)"
   ]
  },
  {
   "cell_type": "code",
   "execution_count": 94,
   "id": "80581640-979f-4ba8-a549-d5c0a7fe7836",
   "metadata": {
    "tags": []
   },
   "outputs": [
    {
     "data": {
      "text/plain": [
       "array([PosixPath('../cif/1/00/00/1000000/POSCAR'),\n",
       "       PosixPath('../cif/1/00/00/1000001/POSCAR'),\n",
       "       PosixPath('../cif/1/00/00/1000002/POSCAR'), ...,\n",
       "       PosixPath('../cif/9/01/78/9017895/POSCAR'),\n",
       "       PosixPath('../cif/9/01/79/9017907/POSCAR'),\n",
       "       PosixPath('../cif/9/01/79/9017909/POSCAR')], dtype=object)"
      ]
     },
     "execution_count": 94,
     "metadata": {},
     "output_type": "execute_result"
    }
   ],
   "source": [
    "# load nnlist_path_list.npy\n",
    "poscar_path_list_loaded = np.load('poscar_path_list.npy', allow_pickle=True)\n",
    "poscar_path_list_loaded"
   ]
  },
  {
   "cell_type": "code",
   "execution_count": null,
   "id": "e20c272d-7c87-404c-8a58-c1e41944a4f2",
   "metadata": {},
   "outputs": [],
   "source": []
  },
  {
   "cell_type": "code",
   "execution_count": null,
   "id": "7b859da5-f0d6-418b-8b03-72935ef42632",
   "metadata": {},
   "outputs": [],
   "source": []
  },
  {
   "cell_type": "code",
   "execution_count": null,
   "id": "5ce31899-73a5-4127-a5d4-6841ced9816c",
   "metadata": {
    "tags": []
   },
   "outputs": [],
   "source": [
    "# # 並列化\n",
    "# try:\n",
    "#     p = Pool(cpu_count() - 1)\n",
    "#     poscar_nnlist_path_list = list(tqdm(p.imap(get_subdir_list, poscar_dir_list[0:100]), total=len(poscar_dir_list[])))\n",
    "\n",
    "# finally:\n",
    "#     p.close()\n",
    "#     p.join()"
   ]
  },
  {
   "cell_type": "code",
   "execution_count": null,
   "id": "77642c27-71fa-43b7-afe2-3f40507d5133",
   "metadata": {},
   "outputs": [],
   "source": []
  },
  {
   "cell_type": "code",
   "execution_count": null,
   "id": "b0b28c31-ae6b-4cdf-b46a-b314aff739cb",
   "metadata": {},
   "outputs": [],
   "source": []
  }
 ],
 "metadata": {
  "kernelspec": {
   "display_name": "Python 3 (ipykernel)",
   "language": "python",
   "name": "python3"
  },
  "language_info": {
   "codemirror_mode": {
    "name": "ipython",
    "version": 3
   },
   "file_extension": ".py",
   "mimetype": "text/x-python",
   "name": "python",
   "nbconvert_exporter": "python",
   "pygments_lexer": "ipython3",
   "version": "3.10.12"
  }
 },
 "nbformat": 4,
 "nbformat_minor": 5
}
