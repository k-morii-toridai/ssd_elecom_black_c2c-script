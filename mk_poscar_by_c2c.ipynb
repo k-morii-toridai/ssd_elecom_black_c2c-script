{
 "cells": [
  {
   "cell_type": "code",
   "execution_count": 7,
   "id": "381d3794-1999-4a70-8da9-e7143f965212",
   "metadata": {
    "tags": []
   },
   "outputs": [
    {
     "name": "stderr",
     "output_type": "stream",
     "text": [
      "100%|█████████████████████████████████████████████████████████████████████████████████████████████████████████████████████████████████████| 9/9 [00:00<00:00, 131.55it/s]\n",
      "100%|███████████████████████████████████████████████████████████████████████████████████████████████████████████████████████████████████| 76/76 [00:00<00:00, 187.44it/s]\n",
      "100%|███████████████████████████████████████████████████████████████████████████████████████████████████████████████████████████████| 6898/6898 [00:48<00:00, 142.95it/s]\n"
     ]
    },
    {
     "name": "stdout",
     "output_type": "stream",
     "text": [
      "it took 110.62443852424622sec to get all of subdir list.\n"
     ]
    }
   ],
   "source": [
    "# for making cif_path_list\n",
    "import time\n",
    "from pathlib import Path\n",
    "import re\n",
    "from tqdm import tqdm\n",
    "\n",
    "def get_subdir_list(p_sub_list):\n",
    "    \"\"\"\n",
    "    To get a sub directory path list, Use thie func().\n",
    "    \n",
    "    pram: p_aub_list: specify a directory which sub dirs is gotten from.\n",
    "    \"\"\"\n",
    "    # 引数の直下のディレクトリ・パスの一覧を取得\n",
    "    sub_dir_list_temp = []\n",
    "    for p_sub in tqdm(p_sub_list):\n",
    "        sub_dir_list_temp.append([p_s_s for p_s_s in p_sub.iterdir()])\n",
    "    # ２次元リストを１次元リスト化\n",
    "    return sum(sub_dir_list_temp, [])\n",
    "\n",
    "\n",
    "p = Path('../cif/')\n",
    "p_sub_list = [p_s for p_s in p.glob('[0-9]')]\n",
    "\n",
    "\n",
    "before = time.time()\n",
    "cif_path_list = get_subdir_list(get_subdir_list(get_subdir_list(p_sub_list)))\n",
    "after = time.time()\n",
    "print(f\"it took {after - before}sec to get all of subdir list.\")\n",
    "\n",
    "\n",
    "def cif_filter(cif_file_path):\n",
    "    pattern = '.*\\.cif'\n",
    "    cif_file_path_str = str(cif_file_path)\n",
    "    return bool(re.match(pattern, cif_file_path_str))\n",
    "\n",
    "\n",
    "cif_path_list = [str(path) for path in cif_path_list if cif_filter(path)]"
   ]
  },
  {
   "cell_type": "markdown",
   "id": "d0ccd231-57ac-4ce2-9129-a43268161cd8",
   "metadata": {
    "tags": []
   },
   "source": [
    "### make poscar file by cif2cell"
   ]
  },
  {
   "cell_type": "code",
   "execution_count": 1,
   "id": "a0927d67-30f3-4452-8c88-8c8041f754a0",
   "metadata": {},
   "outputs": [
    {
     "name": "stdout",
     "output_type": "stream",
     "text": [
      "Collecting git+https://github.com/torbjornbjorkman/cif2cell.git\n",
      "  Cloning https://github.com/torbjornbjorkman/cif2cell.git to /tmp/pip-req-build-9sdtwubn\n",
      "  Running command git clone -q https://github.com/torbjornbjorkman/cif2cell.git /tmp/pip-req-build-9sdtwubn\n",
      "  Installing build dependencies ... \u001b[?25ldone\n",
      "\u001b[?25h  Getting requirements to build wheel ... \u001b[?25ldone\n",
      "\u001b[?25h    Preparing wheel metadata ... \u001b[?25ldone\n",
      "\u001b[?25hCollecting PyCifRW~=4.4.0\n",
      "  Downloading PyCifRW-4.4.6.tar.gz (1.1 MB)\n",
      "\u001b[K     |████████████████████████████████| 1.1 MB 1.8 MB/s eta 0:00:01\n",
      "\u001b[?25h  Installing build dependencies ... \u001b[?25ldone\n",
      "\u001b[?25h  Getting requirements to build wheel ... \u001b[?25ldone\n",
      "\u001b[?25h  Installing backend dependencies ... \u001b[?25ldone\n",
      "\u001b[?25h    Preparing wheel metadata ... \u001b[?25ldone\n",
      "\u001b[?25hRequirement already satisfied: numpy in /home/morii_k/.local/lib/python3.8/site-packages (from PyCifRW~=4.4.0->cif2cell==2.1.0) (1.24.1)\n",
      "Collecting ply\n",
      "  Downloading ply-3.11-py2.py3-none-any.whl (49 kB)\n",
      "\u001b[K     |████████████████████████████████| 49 kB 1.7 MB/s eta 0:00:01\n",
      "\u001b[?25hBuilding wheels for collected packages: cif2cell, PyCifRW\n",
      "  Building wheel for cif2cell (PEP 517) ... \u001b[?25ldone\n",
      "\u001b[?25h  Created wheel for cif2cell: filename=cif2cell-2.1.0-py3-none-any.whl size=2060209 sha256=d29ad5522b784fa81719ff9f38f6dd42c32f2f9312552fc62eaae0f8400a6c9e\n",
      "  Stored in directory: /tmp/pip-ephem-wheel-cache-d3j8ojam/wheels/15/d3/60/346b10b0ab63b24b8d607b84d03734de09f0056e063edb7e21\n",
      "  Building wheel for PyCifRW (PEP 517) ... \u001b[?25ldone\n",
      "\u001b[?25h  Created wheel for PyCifRW: filename=PyCifRW-4.4.6-cp38-cp38-linux_x86_64.whl size=165885 sha256=f935c89edcb2d992a6c0985cebf3cb0e483502d51733b212705af4a98dac2289\n",
      "  Stored in directory: /home/morii_k/.cache/pip/wheels/75/d4/b5/96cd4f6e0eed2b4d7d2d36d45040eeff1bb2331328e36e492c\n",
      "Successfully built cif2cell PyCifRW\n",
      "Installing collected packages: ply, PyCifRW, cif2cell\n",
      "Successfully installed PyCifRW-4.4.6 cif2cell-2.1.0 ply-3.11\n"
     ]
    }
   ],
   "source": [
    "!pip install git+https://github.com/torbjornbjorkman/cif2cell.git"
   ]
  },
  {
   "cell_type": "markdown",
   "id": "fd1df6b5-29be-4a2d-8476-f3d7ab33d2ee",
   "metadata": {},
   "source": [
    "シェルのコマンド:\\\n",
    "!cif2cell ../cif/1/00/00/1000000.cif -p vasp --vasp-format=5 -o ../cif/1/00/00/1000000/POSCAR"
   ]
  },
  {
   "cell_type": "code",
   "execution_count": 16,
   "id": "f5ed3a53-9367-4b03-9c84-72c7c614e342",
   "metadata": {
    "tags": []
   },
   "outputs": [],
   "source": [
    "import subprocess"
   ]
  },
  {
   "cell_type": "markdown",
   "id": "51a05bfa-1c8f-4444-aee0-0b0db2935077",
   "metadata": {},
   "source": [
    "cif2cellの使い方：\\\n",
    "$ cif2cell ABW.cif -p vasp --vasp-format=5"
   ]
  },
  {
   "cell_type": "code",
   "execution_count": 23,
   "id": "330f6c2b-4041-4fd8-957f-6f4107d50116",
   "metadata": {
    "tags": []
   },
   "outputs": [
    {
     "name": "stdout",
     "output_type": "stream",
     "text": [
      "../cif/1/00/00/1000000.cif\n"
     ]
    }
   ],
   "source": [
    "cif_file = str(cif_path_list[0])\n",
    "print(cif_file)"
   ]
  },
  {
   "cell_type": "code",
   "execution_count": 26,
   "id": "3ee2ecbc-50c5-4b2d-944d-89b80d3d6901",
   "metadata": {
    "tags": []
   },
   "outputs": [
    {
     "name": "stderr",
     "output_type": "stream",
     "text": [
      "Error: Unknown output format:  vasp\n"
     ]
    },
    {
     "data": {
      "text/plain": [
       "CompletedProcess(args=['cif2cell', '../cif/1/00/00/1000000.cif', '-p vasp', '--vasp-format=5'], returncode=1)"
      ]
     },
     "execution_count": 26,
     "metadata": {},
     "output_type": "execute_result"
    }
   ],
   "source": [
    "cif_file = str(cif_path_list[0])\n",
    "subprocess.run(['cif2cell', cif_file, '-p vasp', '--vasp-format=5'])"
   ]
  },
  {
   "cell_type": "code",
   "execution_count": 61,
   "id": "27636660-dd7d-49e9-b6d7-8594d346c866",
   "metadata": {
    "tags": []
   },
   "outputs": [
    {
     "data": {
      "text/plain": [
       "'../cif/1/00/00/1000000/POSCAR'"
      ]
     },
     "execution_count": 61,
     "metadata": {},
     "output_type": "execute_result"
    }
   ],
   "source": [
    "cif_file[0:-4] + '/POSCAR'"
   ]
  },
  {
   "cell_type": "code",
   "execution_count": 72,
   "id": "9917819e-4b56-48ca-b0ec-0853bd0a12f4",
   "metadata": {
    "tags": []
   },
   "outputs": [
    {
     "data": {
      "text/plain": [
       "CompletedProcess(args=['cif2cell', '../cif/1/00/00/1000000.cif', '-p', 'vasp', '-o', '../cif/1/00/00/1000000/POSCAR', '--vasp-format=5'], returncode=0)"
      ]
     },
     "execution_count": 72,
     "metadata": {},
     "output_type": "execute_result"
    }
   ],
   "source": [
    "# Success example\n",
    "cif_file = str(cif_path_list[0])\n",
    "poscar_file_path = cif_file[0:-4] + '/POSCAR'\n",
    "subprocess.run(['cif2cell', cif_file, '-p', 'vasp', '-o', poscar_file_path, '--vasp-format=5'])"
   ]
  },
  {
   "cell_type": "markdown",
   "id": "1474021f-4506-496e-b3aa-224a759d6280",
   "metadata": {},
   "source": [
    "#### confirmation by using shell command"
   ]
  },
  {
   "cell_type": "code",
   "execution_count": 78,
   "id": "3b8700df-2bc2-4e5c-bf6d-c12a59bad4cf",
   "metadata": {
    "tags": []
   },
   "outputs": [],
   "source": [
    "!rm ../cif/1/00/00/1000000/POSCAR"
   ]
  },
  {
   "cell_type": "code",
   "execution_count": 42,
   "id": "da4c7d81-e8ff-4cf5-934d-dd792b6251c5",
   "metadata": {
    "tags": []
   },
   "outputs": [],
   "source": [
    "# !cif2cell ../cif/1/00/00/1000000.cif -p vasp --vasp-format=5 -o ../cif/1/00/00/1000000/POSCAR"
   ]
  },
  {
   "cell_type": "code",
   "execution_count": 79,
   "id": "b65081bd-b06d-481e-878e-20d18ebf25da",
   "metadata": {
    "tags": []
   },
   "outputs": [],
   "source": [
    "!ls ../cif/1/00/00/1000000"
   ]
  },
  {
   "cell_type": "code",
   "execution_count": 80,
   "id": "ccf03ab3-14b9-4db3-a911-8a7ca2249041",
   "metadata": {
    "tags": []
   },
   "outputs": [
    {
     "name": "stdout",
     "output_type": "stream",
     "text": [
      "cat: ../cif/1/00/00/1000000/POSCAR: No such file or directory\n"
     ]
    }
   ],
   "source": [
    "!cat ../cif/1/00/00/1000000/POSCAR"
   ]
  },
  {
   "cell_type": "code",
   "execution_count": null,
   "id": "2c758f41-909a-448f-9391-d4b8654caff0",
   "metadata": {},
   "outputs": [],
   "source": []
  },
  {
   "cell_type": "markdown",
   "id": "0e74a67b-c212-4cf6-81de-124d3ce63b6f",
   "metadata": {},
   "source": [
    "### cif2cellを約54万件のデータに適用"
   ]
  },
  {
   "cell_type": "code",
   "execution_count": 99,
   "id": "6958b211-4aba-4a90-a6ec-e3e95c1b3a57",
   "metadata": {
    "tags": []
   },
   "outputs": [],
   "source": [
    "cif_path_list = [str(path) for path in cif_path_list if cif_filter(path)]\n",
    "poscar_path_list = [str(cif_path)[0:-4] + '/POSCAR' for cif_path in cif_path_list]"
   ]
  },
  {
   "cell_type": "code",
   "execution_count": 124,
   "id": "66ad9db5-b036-4650-8d98-24a6abfa669a",
   "metadata": {
    "tags": []
   },
   "outputs": [
    {
     "data": {
      "application/vnd.jupyter.widget-view+json": {
       "model_id": "43d3294e486d408cb73564928fbf4e80",
       "version_major": 2,
       "version_minor": 0
      },
      "text/plain": [
       "  0%|          | 0/504259 [00:00<?, ?it/s]"
      ]
     },
     "metadata": {},
     "output_type": "display_data"
    }
   ],
   "source": [
    "from tqdm.notebook import tqdm\n",
    "for cif_path, poscar_path in tqdm(zip(cif_path_list[0:5], poscar_path_list[0:5]), total=len(cif_path_list)):\n",
    "    error_list = []\n",
    "    try:\n",
    "        subprocess.run(['cif2cell', cif_path, '-p', 'vasp', '-o', poscar_path, '--vasp-format=5'])\n",
    "    except Exception as e:\n",
    "        error_list.appens(e)"
   ]
  },
  {
   "cell_type": "code",
   "execution_count": 140,
   "id": "cb7321da-ea02-4803-b5bf-2501aac051d1",
   "metadata": {
    "tags": []
   },
   "outputs": [
    {
     "name": "stdout",
     "output_type": "stream",
     "text": [
      "/mnt/ssd_elecom_red/scripts\n"
     ]
    }
   ],
   "source": [
    "!pwd"
   ]
  }
 ],
 "metadata": {
  "kernelspec": {
   "display_name": "Python 3 (ipykernel)",
   "language": "python",
   "name": "python3"
  },
  "language_info": {
   "codemirror_mode": {
    "name": "ipython",
    "version": 3
   },
   "file_extension": ".py",
   "mimetype": "text/x-python",
   "name": "python",
   "nbconvert_exporter": "python",
   "pygments_lexer": "ipython3",
   "version": "3.10.12"
  }
 },
 "nbformat": 4,
 "nbformat_minor": 5
}
